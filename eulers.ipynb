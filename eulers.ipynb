{
 "cells": [
  {
   "cell_type": "code",
   "execution_count": 18,
   "metadata": {
    "collapsed": false
   },
   "outputs": [
    {
     "name": "stdout",
     "output_type": "stream",
     "text": [
      " with 42000 steps, the value of f(22) equals = 3462.87925087587\n"
     ]
    }
   ],
   "source": [
    "\"\"\"\n",
    "File: euler\n",
    "Authors: Phoenix Do, Jiashu Zhou, Sachin Letchumanan, Natasha\n",
    "Code: Euler's Method\n",
    "Description: Takes user imputted parameters (intial value for x and y, step size, differential equation, and value for which Euler's method will evaluate) and gives requested value using Euler's Method\n",
    "Condtions: Number of steps and step size must be valid, can not divide by zero\n",
    "\n",
    "\"\"\"\n",
    "\n",
    "from sympy import *\n",
    "\n",
    "#User defined parameters:\n",
    "diff_eq = x**2 - 4                                    #User defined differential Equation\n",
    "x0 = 1                                                #User defined initial value for x\n",
    "y0 = -2                                               #User defined initial value for y\n",
    "step = 0.0005                                         #User defined size of step for each iteration\n",
    "x_final = 22                                          #User defined value which code will approximate to\n",
    "\n",
    "\n",
    "def eulers(diff_eq, x0, y0, step, x_final):           #Sets up function\n",
    "    x = Symbol(\"x\")\n",
    "    y = Symbol(\"y\")\n",
    "    iterations = int((x_final - x0) / step)           #Determines how many times to loop\n",
    "    for i in range(iterations):                       #Sets up loop of iterations\n",
    "        slope = diff_eq.evalf(subs = {x: x0, y: y0})  #Determines value of differntial equation at point to determine tangent line slope\n",
    "        y = slope * step + y0                         #Calculates next value using the equation: f(x) = f(x+1) + step(f'(x-1))\n",
    "        x0 += step\n",
    "        y0 = y\n",
    "    return y                                          #Returns new value for y in iteration\n",
    "\n",
    "iterations = int((x_final - x0) / step)\n",
    "final_y = eulers(diff_eq, x0, y0, step, x_final)      #Runs function with user defined parameters\n",
    "print(\" with \" + str(iterations) + \" steps, the value of f(\" + str(x_final) + \") equals = \" + str(final_y))\n"
   ]
  },
  {
   "cell_type": "code",
   "execution_count": 0,
   "metadata": {
    "collapsed": false
   },
   "outputs": [
   ],
   "source": [
   ]
  },
  {
   "cell_type": "code",
   "execution_count": 0,
   "metadata": {
    "collapsed": false
   },
   "outputs": [
   ],
   "source": [
   ]
  }
 ],
 "metadata": {
  "kernelspec": {
   "argv": [
    "/usr/bin/python3",
    "-m",
    "ipykernel",
    "--HistoryManager.enabled=False",
    "--matplotlib=inline",
    "-c",
    "%config InlineBackend.figure_formats = set(['retina'])\nimport matplotlib; matplotlib.rcParams['figure.figsize'] = (12, 7)",
    "-f",
    "{connection_file}"
   ],
   "display_name": "Python 3 (system-wide)",
   "env": {
   },
   "language": "python",
   "metadata": {
    "cocalc": {
     "description": "Python 3 programming language",
     "priority": 100,
     "url": "https://www.python.org/"
    }
   },
   "name": "python3",
   "resource_dir": "/ext/jupyter/kernels/python3"
  }
 },
 "nbformat": 4,
 "nbformat_minor": 4
}